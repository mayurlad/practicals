{
 "cells": [
  {
   "cell_type": "markdown",
   "id": "223d11af",
   "metadata": {},
   "source": [
    "#### Madhur Jaripatke\n",
    "#### Roll No. 50\n",
    "#### BE A Computer\n",
    "#### RMDSSOE, Warje, Pune"
   ]
  },
  {
   "cell_type": "markdown",
   "id": "43e171ce",
   "metadata": {},
   "source": [
    "# Boston Housing Price Prediction using Deep Neural Networks\n",
    "\n",
    "This notebook implements a deep neural network to predict housing prices using the Boston Housing dataset.\n",
    "\n",
    "## Problem Statement:\n",
    "**Linear regression by using Deep Neural network:** Implement Boston housing price prediction problem by Linear regression using Deep Neural network. Use Boston House price prediction dataset.\n",
    "\n",
    "## Dataset Description\n",
    "\n",
    "The Boston Housing dataset contains information about various features of houses in Boston suburbs and their prices. Each record has 13 features:\n",
    "\n",
    "| Feature | Description |\n",
    "|---------|-------------|\n",
    "| CRIM | Per capita crime rate by town |\n",
    "| ZN | Proportion of residential land zoned for lots over 25,000 sq.ft |\n",
    "| INDUS | Proportion of non-retail business acres per town |\n",
    "| CHAS | Charles River dummy variable (1 if tract bounds river; 0 otherwise) |\n",
    "| NOX | Nitric oxides concentration (parts per 10 million) |\n",
    "| RM | Average number of rooms per dwelling |\n",
    "| AGE | Proportion of owner-occupied units built prior to 1940 |\n",
    "| DIS | Weighted distances to five Boston employment centers |\n",
    "| RAD | Index of accessibility to radial highways |\n",
    "| TAX | Full-value property-tax rate per $10,000 |\n",
    "| PTRATIO | Pupil-teacher ratio by town |\n",
    "| B | 1000(Bk - 0.63)^2 where Bk is the proportion of blacks by town |\n",
    "| LSTAT | % lower status of the population |\n",
    "\n",
    "**Target Variable**: MEDV (Median value of owner-occupied homes in $1000s)"
   ]
  },
  {
   "cell_type": "markdown",
   "id": "9945e14a",
   "metadata": {},
   "source": [
    "## Import Required Libraries"
   ]
  },
  {
   "cell_type": "code",
   "execution_count": null,
   "id": "b180e850",
   "metadata": {},
   "outputs": [],
   "source": [
    "import tensorflow as tf\n",
    "import numpy as np\n",
    "import pandas as pd\n",
    "import matplotlib.pyplot as plt\n",
    "from sklearn.model_selection import train_test_split\n",
    "from sklearn.preprocessing import StandardScaler\n",
    "import warnings\n",
    "warnings.filterwarnings('ignore')\n",
    "\n",
    "# Set random seed for reproducibility\n",
    "np.random.seed(42)\n",
    "tf.random.set_seed(42)"
   ]
  },
  {
   "cell_type": "markdown",
   "id": "02bd004b",
   "metadata": {},
   "source": [
    "## Data Loading and Preprocessing\n",
    "\n",
    "We'll load the Boston Housing dataset and preprocess it by:\n",
    "1. Loading from the original source\n",
    "2. Normalizing features using StandardScaler\n",
    "3. Splitting into train, validation, and test sets"
   ]
  },
  {
   "cell_type": "code",
   "execution_count": null,
   "id": "ff6a93b0",
   "metadata": {},
   "outputs": [],
   "source": [
    "def load_boston_housing_data():\n",
    "    \"\"\"Load and preprocess the Boston Housing dataset from its original source.\"\"\"\n",
    "    data_url = \"http://lib.stat.cmu.edu/datasets/boston\"\n",
    "    raw_df = pd.read_csv(data_url, sep=\"\\s+\", skiprows=22, header=None)\n",
    "    data = np.hstack([raw_df.values[::2, :], raw_df.values[1::2, :2]])\n",
    "    target = raw_df.values[1::2, 2]\n",
    "\n",
    "    # Normalize features and target\n",
    "    scaler_X = StandardScaler()\n",
    "    scaler_y = StandardScaler()\n",
    "    \n",
    "    X = scaler_X.fit_transform(data)\n",
    "    y = scaler_y.fit_transform(target.reshape(-1, 1))\n",
    "    \n",
    "    return X, y, scaler_y\n",
    "\n",
    "# Load and preprocess data\n",
    "X, y, scaler_y = load_boston_housing_data()\n",
    "\n",
    "# Split the data\n",
    "X_train, X_test, y_train, y_test = train_test_split(X, y, test_size=0.2, random_state=42)\n",
    "X_train, X_val, y_train, y_val = train_test_split(X_train, y_train, test_size=0.2, random_state=42)\n",
    "\n",
    "print(f\"Training set shape: {X_train.shape}\")\n",
    "print(f\"Validation set shape: {X_val.shape}\")\n",
    "print(f\"Test set shape: {X_test.shape}\")"
   ]
  },
  {
   "cell_type": "markdown",
   "id": "33d12bd9",
   "metadata": {},
   "source": [
    "## Model Architecture\n",
    "\n",
    "We'll create a deep neural network with the following features:\n",
    "- Batch normalization for training stability\n",
    "- Dropout layers for regularization\n",
    "- L2 regularization on dense layers\n",
    "- Multiple hidden layers with decreasing units"
   ]
  },
  {
   "cell_type": "code",
   "execution_count": null,
   "id": "9209bc2f",
   "metadata": {},
   "outputs": [],
   "source": [
    "def create_model():\n",
    "    \"\"\"Creates an improved neural network model for housing price prediction.\"\"\"\n",
    "    model = tf.keras.Sequential([\n",
    "        # Input layer\n",
    "        tf.keras.layers.Input(shape=(13,)),\n",
    "        tf.keras.layers.BatchNormalization(),\n",
    "        \n",
    "        # First hidden layer\n",
    "        tf.keras.layers.Dense(128, kernel_regularizer=tf.keras.regularizers.l2(0.01)),\n",
    "        tf.keras.layers.BatchNormalization(),\n",
    "        tf.keras.layers.Activation('relu'),\n",
    "        tf.keras.layers.Dropout(0.3),\n",
    "        \n",
    "        # Second hidden layer\n",
    "        tf.keras.layers.Dense(64, kernel_regularizer=tf.keras.regularizers.l2(0.01)),\n",
    "        tf.keras.layers.BatchNormalization(),\n",
    "        tf.keras.layers.Activation('relu'),\n",
    "        tf.keras.layers.Dropout(0.2),\n",
    "        \n",
    "        # Third hidden layer\n",
    "        tf.keras.layers.Dense(32, kernel_regularizer=tf.keras.regularizers.l2(0.01)),\n",
    "        tf.keras.layers.BatchNormalization(),\n",
    "        tf.keras.layers.Activation('relu'),\n",
    "        tf.keras.layers.Dropout(0.1),\n",
    "        \n",
    "        # Output layer\n",
    "        tf.keras.layers.Dense(1)\n",
    "    ])\n",
    "    \n",
    "    return model\n",
    "\n",
    "# Create and compile model\n",
    "model = create_model()\n",
    "model.compile(\n",
    "    optimizer=tf.keras.optimizers.Adam(learning_rate=0.001),\n",
    "    loss='mse',\n",
    "    metrics=['mae']\n",
    ")\n",
    "\n",
    "model.summary()"
   ]
  },
  {
   "cell_type": "markdown",
   "id": "51a9c082",
   "metadata": {},
   "source": [
    "## Model Training\n",
    "\n",
    "We'll train the model with:\n",
    "- Early stopping to prevent overfitting\n",
    "- Learning rate reduction on plateau\n",
    "- Batch size of 32\n",
    "- Maximum 200 epochs"
   ]
  },
  {
   "cell_type": "code",
   "execution_count": null,
   "id": "fa2cf523",
   "metadata": {},
   "outputs": [],
   "source": [
    "# Create TensorFlow datasets\n",
    "batch_size = 32\n",
    "train_dataset = tf.data.Dataset.from_tensor_slices((X_train, y_train)).shuffle(len(X_train)).batch(batch_size)\n",
    "val_dataset = tf.data.Dataset.from_tensor_slices((X_val, y_val)).batch(batch_size)\n",
    "test_dataset = tf.data.Dataset.from_tensor_slices((X_test, y_test)).batch(batch_size)\n",
    "\n",
    "# Callbacks\n",
    "callbacks = [\n",
    "    tf.keras.callbacks.EarlyStopping(\n",
    "        monitor='val_loss',\n",
    "        patience=20,\n",
    "        restore_best_weights=True,\n",
    "        verbose=1\n",
    "    ),\n",
    "    tf.keras.callbacks.ReduceLROnPlateau(\n",
    "        monitor='val_loss',\n",
    "        factor=0.2,\n",
    "        patience=10,\n",
    "        min_lr=0.00001,\n",
    "        verbose=1\n",
    "    )\n",
    "]\n",
    "\n",
    "# Train the model\n",
    "history = model.fit(\n",
    "    train_dataset,\n",
    "    epochs=200,\n",
    "    validation_data=val_dataset,\n",
    "    callbacks=callbacks,\n",
    "    verbose=1\n",
    ")"
   ]
  },
  {
   "cell_type": "markdown",
   "id": "7901df08",
   "metadata": {},
   "source": [
    "## Training History Visualization\n",
    "\n",
    "Let's visualize how the model performed during training:"
   ]
  },
  {
   "cell_type": "code",
   "execution_count": null,
   "id": "5738e8e4",
   "metadata": {},
   "outputs": [],
   "source": [
    "plt.figure(figsize=(12, 4))\n",
    "\n",
    "# Loss plot\n",
    "plt.subplot(1, 2, 1)\n",
    "plt.plot(history.history['loss'], label='Training Loss')\n",
    "plt.plot(history.history['val_loss'], label='Validation Loss')\n",
    "plt.title('Model Loss Over Time')\n",
    "plt.xlabel('Epoch')\n",
    "plt.ylabel('Loss')\n",
    "plt.legend()\n",
    "plt.grid(True)\n",
    "\n",
    "# MAE plot\n",
    "plt.subplot(1, 2, 2)\n",
    "plt.plot(history.history['mae'], label='Training MAE')\n",
    "plt.plot(history.history['val_mae'], label='Validation MAE')\n",
    "plt.title('Model MAE Over Time')\n",
    "plt.xlabel('Epoch')\n",
    "plt.ylabel('Mean Absolute Error')\n",
    "plt.legend()\n",
    "plt.grid(True)\n",
    "\n",
    "plt.tight_layout()\n",
    "plt.show()"
   ]
  },
  {
   "cell_type": "markdown",
   "id": "af0182ee",
   "metadata": {},
   "source": [
    "## Model Evaluation and Predictions\n",
    "\n",
    "Let's evaluate the model on the test set and make some sample predictions:"
   ]
  },
  {
   "cell_type": "code",
   "execution_count": null,
   "id": "7f34c142",
   "metadata": {},
   "outputs": [],
   "source": [
    "# Evaluate on test set\n",
    "test_results = model.evaluate(test_dataset, verbose=0)\n",
    "print(f\"Test Mean Absolute Error (normalized): {test_results[1]:.4f}\")\n",
    "\n",
    "# Make predictions\n",
    "test_predictions = model.predict(X_test)\n",
    "\n",
    "# Convert predictions back to original scale\n",
    "test_predictions_original = scaler_y.inverse_transform(test_predictions)\n",
    "test_actual_original = scaler_y.inverse_transform(y_test)\n",
    "\n",
    "# Calculate metrics in original scale\n",
    "mae_original = np.mean(np.abs(test_predictions_original - test_actual_original))\n",
    "mse = np.mean((test_predictions_original - test_actual_original) ** 2)\n",
    "rmse = np.sqrt(mse)\n",
    "r2 = 1 - (np.sum((test_actual_original - test_predictions_original) ** 2) / \n",
    "          np.sum((test_actual_original - np.mean(test_actual_original)) ** 2))\n",
    "\n",
    "print(f\"\\nTest Mean Absolute Error: ${mae_original:.2f}k\")\n",
    "print(f\"Root Mean Square Error: ${rmse:.2f}k\")\n",
    "print(f\"R-squared Score: {r2:.4f}\")\n",
    "\n",
    "# Show sample predictions\n",
    "print(\"\\nSample Predictions vs Actual Values (in $1000s):\")\n",
    "for pred, actual in zip(test_predictions_original[:5], test_actual_original[:5]):\n",
    "    print(f\"Predicted: ${pred[0]:.2f}k, Actual: ${actual[0]:.2f}k\")"
   ]
  },
  {
   "cell_type": "markdown",
   "id": "776efe89",
   "metadata": {},
   "source": [
    "## Prediction vs Actual Plot\n",
    "\n",
    "Let's visualize how well our predictions match the actual values:"
   ]
  },
  {
   "cell_type": "code",
   "execution_count": null,
   "id": "e98b98b5",
   "metadata": {},
   "outputs": [],
   "source": [
    "plt.figure(figsize=(10, 6))\n",
    "plt.scatter(test_actual_original, test_predictions_original, alpha=0.5)\n",
    "plt.plot([test_actual_original.min(), test_actual_original.max()],\n",
    "         [test_actual_original.min(), test_actual_original.max()],\n",
    "         'r--', lw=2)\n",
    "plt.xlabel('Actual Price ($1000s)')\n",
    "plt.ylabel('Predicted Price ($1000s)')\n",
    "plt.title('Predicted vs Actual House Prices')\n",
    "plt.grid(True)\n",
    "plt.show()"
   ]
  }
 ],
 "metadata": {
  "language_info": {
   "name": "python"
  }
 },
 "nbformat": 4,
 "nbformat_minor": 5
}
